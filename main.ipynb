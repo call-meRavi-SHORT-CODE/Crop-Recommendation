{
 "cells": [
  {
   "cell_type": "code",
   "execution_count": 12,
   "id": "a6e4fd85",
   "metadata": {},
   "outputs": [],
   "source": [
    "import pandas as pd\n",
    "import numpy as np "
   ]
  },
  {
   "cell_type": "code",
   "execution_count": 13,
   "id": "6447ee15",
   "metadata": {},
   "outputs": [
    {
     "data": {
      "text/html": [
       "<div>\n",
       "<style scoped>\n",
       "    .dataframe tbody tr th:only-of-type {\n",
       "        vertical-align: middle;\n",
       "    }\n",
       "\n",
       "    .dataframe tbody tr th {\n",
       "        vertical-align: top;\n",
       "    }\n",
       "\n",
       "    .dataframe thead th {\n",
       "        text-align: right;\n",
       "    }\n",
       "</style>\n",
       "<table border=\"1\" class=\"dataframe\">\n",
       "  <thead>\n",
       "    <tr style=\"text-align: right;\">\n",
       "      <th></th>\n",
       "      <th>N</th>\n",
       "      <th>P</th>\n",
       "      <th>K</th>\n",
       "      <th>temperature</th>\n",
       "      <th>humidity</th>\n",
       "      <th>ph</th>\n",
       "      <th>rainfall</th>\n",
       "      <th>label</th>\n",
       "    </tr>\n",
       "  </thead>\n",
       "  <tbody>\n",
       "    <tr>\n",
       "      <th>0</th>\n",
       "      <td>90</td>\n",
       "      <td>42</td>\n",
       "      <td>43</td>\n",
       "      <td>20.879744</td>\n",
       "      <td>82.002744</td>\n",
       "      <td>6.502985</td>\n",
       "      <td>202.935536</td>\n",
       "      <td>rice</td>\n",
       "    </tr>\n",
       "    <tr>\n",
       "      <th>1</th>\n",
       "      <td>85</td>\n",
       "      <td>58</td>\n",
       "      <td>41</td>\n",
       "      <td>21.770462</td>\n",
       "      <td>80.319644</td>\n",
       "      <td>7.038096</td>\n",
       "      <td>226.655537</td>\n",
       "      <td>rice</td>\n",
       "    </tr>\n",
       "    <tr>\n",
       "      <th>2</th>\n",
       "      <td>60</td>\n",
       "      <td>55</td>\n",
       "      <td>44</td>\n",
       "      <td>23.004459</td>\n",
       "      <td>82.320763</td>\n",
       "      <td>7.840207</td>\n",
       "      <td>263.964248</td>\n",
       "      <td>rice</td>\n",
       "    </tr>\n",
       "    <tr>\n",
       "      <th>3</th>\n",
       "      <td>74</td>\n",
       "      <td>35</td>\n",
       "      <td>40</td>\n",
       "      <td>26.491096</td>\n",
       "      <td>80.158363</td>\n",
       "      <td>6.980401</td>\n",
       "      <td>242.864034</td>\n",
       "      <td>rice</td>\n",
       "    </tr>\n",
       "    <tr>\n",
       "      <th>4</th>\n",
       "      <td>78</td>\n",
       "      <td>42</td>\n",
       "      <td>42</td>\n",
       "      <td>20.130175</td>\n",
       "      <td>81.604873</td>\n",
       "      <td>7.628473</td>\n",
       "      <td>262.717340</td>\n",
       "      <td>rice</td>\n",
       "    </tr>\n",
       "  </tbody>\n",
       "</table>\n",
       "</div>"
      ],
      "text/plain": [
       "    N   P   K  temperature   humidity        ph    rainfall label\n",
       "0  90  42  43    20.879744  82.002744  6.502985  202.935536  rice\n",
       "1  85  58  41    21.770462  80.319644  7.038096  226.655537  rice\n",
       "2  60  55  44    23.004459  82.320763  7.840207  263.964248  rice\n",
       "3  74  35  40    26.491096  80.158363  6.980401  242.864034  rice\n",
       "4  78  42  42    20.130175  81.604873  7.628473  262.717340  rice"
      ]
     },
     "execution_count": 13,
     "metadata": {},
     "output_type": "execute_result"
    }
   ],
   "source": [
    "data = pd.read_csv(\"C://Users//Ravikrishna J//Downloads//Crop_recommendation.csv\")\n",
    "data.head()"
   ]
  },
  {
   "cell_type": "code",
   "execution_count": 14,
   "id": "ffe2a41d",
   "metadata": {},
   "outputs": [
    {
     "data": {
      "text/plain": [
       "(2200, 8)"
      ]
     },
     "execution_count": 14,
     "metadata": {},
     "output_type": "execute_result"
    }
   ],
   "source": [
    "data.shape"
   ]
  },
  {
   "cell_type": "code",
   "execution_count": 15,
   "id": "2a99416e",
   "metadata": {},
   "outputs": [
    {
     "data": {
      "text/plain": [
       "N              0\n",
       "P              0\n",
       "K              0\n",
       "temperature    0\n",
       "humidity       0\n",
       "ph             0\n",
       "rainfall       0\n",
       "label          0\n",
       "dtype: int64"
      ]
     },
     "execution_count": 15,
     "metadata": {},
     "output_type": "execute_result"
    }
   ],
   "source": [
    "data.isnull().sum()"
   ]
  },
  {
   "cell_type": "code",
   "execution_count": 16,
   "id": "09398be3",
   "metadata": {},
   "outputs": [
    {
     "data": {
      "text/plain": [
       "0"
      ]
     },
     "execution_count": 16,
     "metadata": {},
     "output_type": "execute_result"
    }
   ],
   "source": [
    "data.duplicated().sum()"
   ]
  },
  {
   "cell_type": "code",
   "execution_count": 17,
   "id": "bed7c2aa",
   "metadata": {},
   "outputs": [
    {
     "data": {
      "text/html": [
       "<div>\n",
       "<style scoped>\n",
       "    .dataframe tbody tr th:only-of-type {\n",
       "        vertical-align: middle;\n",
       "    }\n",
       "\n",
       "    .dataframe tbody tr th {\n",
       "        vertical-align: top;\n",
       "    }\n",
       "\n",
       "    .dataframe thead th {\n",
       "        text-align: right;\n",
       "    }\n",
       "</style>\n",
       "<table border=\"1\" class=\"dataframe\">\n",
       "  <thead>\n",
       "    <tr style=\"text-align: right;\">\n",
       "      <th></th>\n",
       "      <th>N</th>\n",
       "      <th>P</th>\n",
       "      <th>K</th>\n",
       "      <th>temperature</th>\n",
       "      <th>humidity</th>\n",
       "      <th>ph</th>\n",
       "      <th>rainfall</th>\n",
       "    </tr>\n",
       "  </thead>\n",
       "  <tbody>\n",
       "    <tr>\n",
       "      <th>count</th>\n",
       "      <td>2200.000000</td>\n",
       "      <td>2200.000000</td>\n",
       "      <td>2200.000000</td>\n",
       "      <td>2200.000000</td>\n",
       "      <td>2200.000000</td>\n",
       "      <td>2200.000000</td>\n",
       "      <td>2200.000000</td>\n",
       "    </tr>\n",
       "    <tr>\n",
       "      <th>mean</th>\n",
       "      <td>50.551818</td>\n",
       "      <td>53.362727</td>\n",
       "      <td>48.149091</td>\n",
       "      <td>25.616244</td>\n",
       "      <td>71.481779</td>\n",
       "      <td>6.469480</td>\n",
       "      <td>103.463655</td>\n",
       "    </tr>\n",
       "    <tr>\n",
       "      <th>std</th>\n",
       "      <td>36.917334</td>\n",
       "      <td>32.985883</td>\n",
       "      <td>50.647931</td>\n",
       "      <td>5.063749</td>\n",
       "      <td>22.263812</td>\n",
       "      <td>0.773938</td>\n",
       "      <td>54.958389</td>\n",
       "    </tr>\n",
       "    <tr>\n",
       "      <th>min</th>\n",
       "      <td>0.000000</td>\n",
       "      <td>5.000000</td>\n",
       "      <td>5.000000</td>\n",
       "      <td>8.825675</td>\n",
       "      <td>14.258040</td>\n",
       "      <td>3.504752</td>\n",
       "      <td>20.211267</td>\n",
       "    </tr>\n",
       "    <tr>\n",
       "      <th>25%</th>\n",
       "      <td>21.000000</td>\n",
       "      <td>28.000000</td>\n",
       "      <td>20.000000</td>\n",
       "      <td>22.769375</td>\n",
       "      <td>60.261953</td>\n",
       "      <td>5.971693</td>\n",
       "      <td>64.551686</td>\n",
       "    </tr>\n",
       "    <tr>\n",
       "      <th>50%</th>\n",
       "      <td>37.000000</td>\n",
       "      <td>51.000000</td>\n",
       "      <td>32.000000</td>\n",
       "      <td>25.598693</td>\n",
       "      <td>80.473146</td>\n",
       "      <td>6.425045</td>\n",
       "      <td>94.867624</td>\n",
       "    </tr>\n",
       "    <tr>\n",
       "      <th>75%</th>\n",
       "      <td>84.250000</td>\n",
       "      <td>68.000000</td>\n",
       "      <td>49.000000</td>\n",
       "      <td>28.561654</td>\n",
       "      <td>89.948771</td>\n",
       "      <td>6.923643</td>\n",
       "      <td>124.267508</td>\n",
       "    </tr>\n",
       "    <tr>\n",
       "      <th>max</th>\n",
       "      <td>140.000000</td>\n",
       "      <td>145.000000</td>\n",
       "      <td>205.000000</td>\n",
       "      <td>43.675493</td>\n",
       "      <td>99.981876</td>\n",
       "      <td>9.935091</td>\n",
       "      <td>298.560117</td>\n",
       "    </tr>\n",
       "  </tbody>\n",
       "</table>\n",
       "</div>"
      ],
      "text/plain": [
       "                 N            P            K  temperature     humidity  \\\n",
       "count  2200.000000  2200.000000  2200.000000  2200.000000  2200.000000   \n",
       "mean     50.551818    53.362727    48.149091    25.616244    71.481779   \n",
       "std      36.917334    32.985883    50.647931     5.063749    22.263812   \n",
       "min       0.000000     5.000000     5.000000     8.825675    14.258040   \n",
       "25%      21.000000    28.000000    20.000000    22.769375    60.261953   \n",
       "50%      37.000000    51.000000    32.000000    25.598693    80.473146   \n",
       "75%      84.250000    68.000000    49.000000    28.561654    89.948771   \n",
       "max     140.000000   145.000000   205.000000    43.675493    99.981876   \n",
       "\n",
       "                ph     rainfall  \n",
       "count  2200.000000  2200.000000  \n",
       "mean      6.469480   103.463655  \n",
       "std       0.773938    54.958389  \n",
       "min       3.504752    20.211267  \n",
       "25%       5.971693    64.551686  \n",
       "50%       6.425045    94.867624  \n",
       "75%       6.923643   124.267508  \n",
       "max       9.935091   298.560117  "
      ]
     },
     "execution_count": 17,
     "metadata": {},
     "output_type": "execute_result"
    }
   ],
   "source": [
    "data.describe()"
   ]
  },
  {
   "cell_type": "code",
   "execution_count": 7,
   "id": "55b022cf",
   "metadata": {},
   "outputs": [
    {
     "name": "stdout",
     "output_type": "stream",
     "text": [
      "Requirement already satisfied: seaborn in c:\\users\\ravikrishna j\\ano\\lib\\site-packages (0.12.2)\n",
      "Requirement already satisfied: matplotlib!=3.6.1,>=3.1 in c:\\users\\ravikrishna j\\ano\\lib\\site-packages (from seaborn) (3.7.0)\n",
      "Requirement already satisfied: pandas>=0.25 in c:\\users\\ravikrishna j\\ano\\lib\\site-packages (from seaborn) (1.5.3)\n",
      "Requirement already satisfied: numpy!=1.24.0,>=1.17 in c:\\users\\ravikrishna j\\ano\\lib\\site-packages (from seaborn) (1.23.5)\n",
      "Requirement already satisfied: pyparsing>=2.3.1 in c:\\users\\ravikrishna j\\ano\\lib\\site-packages (from matplotlib!=3.6.1,>=3.1->seaborn) (3.0.9)\n",
      "Requirement already satisfied: pillow>=6.2.0 in c:\\users\\ravikrishna j\\ano\\lib\\site-packages (from matplotlib!=3.6.1,>=3.1->seaborn) (9.4.0)\n",
      "Requirement already satisfied: fonttools>=4.22.0 in c:\\users\\ravikrishna j\\ano\\lib\\site-packages (from matplotlib!=3.6.1,>=3.1->seaborn) (4.25.0)\n",
      "Requirement already satisfied: kiwisolver>=1.0.1 in c:\\users\\ravikrishna j\\ano\\lib\\site-packages (from matplotlib!=3.6.1,>=3.1->seaborn) (1.4.4)\n",
      "Requirement already satisfied: cycler>=0.10 in c:\\users\\ravikrishna j\\ano\\lib\\site-packages (from matplotlib!=3.6.1,>=3.1->seaborn) (0.11.0)\n",
      "Requirement already satisfied: python-dateutil>=2.7 in c:\\users\\ravikrishna j\\ano\\lib\\site-packages (from matplotlib!=3.6.1,>=3.1->seaborn) (2.8.2)\n",
      "Requirement already satisfied: contourpy>=1.0.1 in c:\\users\\ravikrishna j\\ano\\lib\\site-packages (from matplotlib!=3.6.1,>=3.1->seaborn) (1.0.5)\n",
      "Requirement already satisfied: packaging>=20.0 in c:\\users\\ravikrishna j\\ano\\lib\\site-packages (from matplotlib!=3.6.1,>=3.1->seaborn) (22.0)\n",
      "Requirement already satisfied: pytz>=2020.1 in c:\\users\\ravikrishna j\\ano\\lib\\site-packages (from pandas>=0.25->seaborn) (2022.7)\n",
      "Requirement already satisfied: six>=1.5 in c:\\users\\ravikrishna j\\ano\\lib\\site-packages (from python-dateutil>=2.7->matplotlib!=3.6.1,>=3.1->seaborn) (1.16.0)\n",
      "Note: you may need to restart the kernel to use updated packages.\n"
     ]
    }
   ],
   "source": [
    "pip install seaborn "
   ]
  },
  {
   "cell_type": "code",
   "execution_count": 18,
   "id": "b817990e",
   "metadata": {},
   "outputs": [],
   "source": [
    "import seaborn as sb\n"
   ]
  },
  {
   "cell_type": "code",
   "execution_count": 19,
   "id": "9b1e543d",
   "metadata": {},
   "outputs": [
    {
     "name": "stderr",
     "output_type": "stream",
     "text": [
      "C:\\Users\\Ravikrishna J\\AppData\\Local\\Temp\\ipykernel_8384\\3033092961.py:1: FutureWarning: The default value of numeric_only in DataFrame.corr is deprecated. In a future version, it will default to False. Select only valid columns or specify the value of numeric_only to silence this warning.\n",
      "  sb.heatmap(data.corr(), annot=True ,cbar=True)\n"
     ]
    },
    {
     "data": {
      "text/plain": [
       "<Axes: >"
      ]
     },
     "execution_count": 19,
     "metadata": {},
     "output_type": "execute_result"
    },
    {
     "data": {
      "image/png": "[encoded data removed]",
      "text/plain": [
       "<Figure size 640x480 with 2 Axes>"
      ]
     },
     "metadata": {},
     "output_type": "display_data"
    }
   ],
   "source": [
    "sb.heatmap(data.corr(), annot=True ,cbar=True)"
   ]
  },
  {
   "cell_type": "markdown",
   "id": "f83122ad",
   "metadata": {},
   "source": [
    "# so there is a correlation  in K and P"
   ]
  },
  {
   "cell_type": "code",
   "execution_count": 20,
   "id": "331b6e69",
   "metadata": {},
   "outputs": [
    {
     "data": {
      "text/plain": [
       "rice           100\n",
       "maize          100\n",
       "jute           100\n",
       "cotton         100\n",
       "coconut        100\n",
       "papaya         100\n",
       "orange         100\n",
       "apple          100\n",
       "muskmelon      100\n",
       "watermelon     100\n",
       "grapes         100\n",
       "mango          100\n",
       "banana         100\n",
       "pomegranate    100\n",
       "lentil         100\n",
       "blackgram      100\n",
       "mungbean       100\n",
       "mothbeans      100\n",
       "pigeonpeas     100\n",
       "kidneybeans    100\n",
       "chickpea       100\n",
       "coffee         100\n",
       "Name: label, dtype: int64"
      ]
     },
     "execution_count": 20,
     "metadata": {},
     "output_type": "execute_result"
    }
   ],
   "source": [
    "data.label.value_counts()"
   ]
  },
  {
   "cell_type": "code",
   "execution_count": 21,
   "id": "2c468246",
   "metadata": {},
   "outputs": [
    {
     "name": "stdout",
     "output_type": "stream",
     "text": [
      "<class 'pandas.core.frame.DataFrame'>\n",
      "RangeIndex: 2200 entries, 0 to 2199\n",
      "Data columns (total 8 columns):\n",
      " #   Column       Non-Null Count  Dtype  \n",
      "---  ------       --------------  -----  \n",
      " 0   N            2200 non-null   int64  \n",
      " 1   P            2200 non-null   int64  \n",
      " 2   K            2200 non-null   int64  \n",
      " 3   temperature  2200 non-null   float64\n",
      " 4   humidity     2200 non-null   float64\n",
      " 5   ph           2200 non-null   float64\n",
      " 6   rainfall     2200 non-null   float64\n",
      " 7   label        2200 non-null   object \n",
      "dtypes: float64(4), int64(3), object(1)\n",
      "memory usage: 137.6+ KB\n"
     ]
    }
   ],
   "source": [
    "data.info()"
   ]
  },
  {
   "cell_type": "code",
   "execution_count": 22,
   "id": "3ce3ae28",
   "metadata": {},
   "outputs": [
    {
     "data": {
      "text/plain": [
       "22"
      ]
     },
     "execution_count": 22,
     "metadata": {},
     "output_type": "execute_result"
    }
   ],
   "source": [
    "data['label'].unique().size"
   ]
  },
  {
   "cell_type": "code",
   "execution_count": 14,
   "id": "a6f21722",
   "metadata": {},
   "outputs": [
    {
     "name": "stdout",
     "output_type": "stream",
     "text": [
      "Requirement already satisfied: matplotlib in c:\\users\\ravikrishna j\\ano\\lib\\site-packages (3.7.0)\n",
      "Requirement already satisfied: contourpy>=1.0.1 in c:\\users\\ravikrishna j\\ano\\lib\\site-packages (from matplotlib) (1.0.5)\n",
      "Requirement already satisfied: packaging>=20.0 in c:\\users\\ravikrishna j\\ano\\lib\\site-packages (from matplotlib) (22.0)\n",
      "Requirement already satisfied: pillow>=6.2.0 in c:\\users\\ravikrishna j\\ano\\lib\\site-packages (from matplotlib) (9.4.0)\n",
      "Requirement already satisfied: cycler>=0.10 in c:\\users\\ravikrishna j\\ano\\lib\\site-packages (from matplotlib) (0.11.0)\n",
      "Requirement already satisfied: python-dateutil>=2.7 in c:\\users\\ravikrishna j\\ano\\lib\\site-packages (from matplotlib) (2.8.2)\n",
      "Requirement already satisfied: pyparsing>=2.3.1 in c:\\users\\ravikrishna j\\ano\\lib\\site-packages (from matplotlib) (3.0.9)\n",
      "Requirement already satisfied: kiwisolver>=1.0.1 in c:\\users\\ravikrishna j\\ano\\lib\\site-packages (from matplotlib) (1.4.4)\n",
      "Requirement already satisfied: numpy>=1.20 in c:\\users\\ravikrishna j\\ano\\lib\\site-packages (from matplotlib) (1.23.5)\n",
      "Requirement already satisfied: fonttools>=4.22.0 in c:\\users\\ravikrishna j\\ano\\lib\\site-packages (from matplotlib) (4.25.0)\n",
      "Requirement already satisfied: six>=1.5 in c:\\users\\ravikrishna j\\ano\\lib\\site-packages (from python-dateutil>=2.7->matplotlib) (1.16.0)\n",
      "Note: you may need to restart the kernel to use updated packages.\n"
     ]
    }
   ],
   "source": [
    "pip install matplotlib"
   ]
  },
  {
   "cell_type": "code",
   "execution_count": 21,
   "id": "93288653",
   "metadata": {},
   "outputs": [
    {
     "name": "stderr",
     "output_type": "stream",
     "text": [
      "C:\\Users\\Ravikrishna J\\AppData\\Local\\Temp\\ipykernel_12416\\3276244973.py:2: UserWarning: \n",
      "\n",
      "`distplot` is a deprecated function and will be removed in seaborn v0.14.0.\n",
      "\n",
      "Please adapt your code to use either `displot` (a figure-level function with\n",
      "similar flexibility) or `histplot` (an axes-level function for histograms).\n",
      "\n",
      "For a guide to updating your code to use the new functions, please see\n",
      "https://gist.github.com/mwaskom/de44147ed2974457ad6372750bbe5751\n",
      "\n",
      "  sb.distplot(data['K'])\n"
     ]
    },
    {
     "data": {
      "image/png": "[encoded data removed]",
      "text/plain": [
       "<Figure size 640x480 with 1 Axes>"
      ]
     },
     "metadata": {},
     "output_type": "display_data"
    }
   ],
   "source": [
    "import matplotlib.pyplot as plt\n",
    "sb.distplot(data['K'])\n",
    "plt.show()"
   ]
  },
  {
   "cell_type": "code",
   "execution_count": 20,
   "id": "72ab0d41",
   "metadata": {},
   "outputs": [
    {
     "name": "stderr",
     "output_type": "stream",
     "text": [
      "C:\\Users\\Ravikrishna J\\AppData\\Local\\Temp\\ipykernel_12416\\419441537.py:1: UserWarning: \n",
      "\n",
      "`distplot` is a deprecated function and will be removed in seaborn v0.14.0.\n",
      "\n",
      "Please adapt your code to use either `displot` (a figure-level function with\n",
      "similar flexibility) or `histplot` (an axes-level function for histograms).\n",
      "\n",
      "For a guide to updating your code to use the new functions, please see\n",
      "https://gist.github.com/mwaskom/de44147ed2974457ad6372750bbe5751\n",
      "\n",
      "  sb.distplot(data['P'])\n"
     ]
    },
    {
     "data": {
      "image/png": "[encoded data removed]",
      "text/plain": [
       "<Figure size 640x480 with 1 Axes>"
      ]
     },
     "metadata": {},
     "output_type": "display_data"
    }
   ],
   "source": [
    "sb.distplot(data['P'])\n",
    "plt.show()"
   ]
  },
  {
   "cell_type": "code",
   "execution_count": 26,
   "id": "bf69d4cf",
   "metadata": {},
   "outputs": [],
   "source": [
    "data_dic={'rice':1,\n",
    "'maize':2,\n",
    "'jute':3,\n",
    "'cotton':4,\n",
    "'coconut':5,\n",
    "'papaya':6,\n",
    "'orange':7,\n",
    "'apple':8,\n",
    "'muskmelon':9,\n",
    "'watermelon':10,\n",
    "'grapes':11,\n",
    "'mango':12,\n",
    "'banana':13,\n",
    "'pomegranate':14,\n",
    "'lentil':15,\n",
    "'blackgram':16,\n",
    "'mungbean':17,\n",
    "'mothbeans':18,\n",
    "'pigeonpeas':19,\n",
    "'kidneybeans':20,\n",
    "'chickpea':21,\n",
    "'coffee':22}"
   ]
  },
  {
   "cell_type": "code",
   "execution_count": 27,
   "id": "a9e91011",
   "metadata": {},
   "outputs": [
    {
     "name": "stdout",
     "output_type": "stream",
     "text": [
      "{'rice': 1, 'maize': 2, 'jute': 3, 'cotton': 4, 'coconut': 5, 'papaya': 6, 'orange': 7, 'apple': 8, 'muskmelon': 9, 'watermelon': 10, 'grapes': 11, 'mango': 12, 'banana': 13, 'pomegranate': 14, 'lentil': 15, 'blackgram': 16, 'mungbean': 17, 'mothbeans': 18, 'pigeonpeas': 19, 'kidneybeans': 20, 'chickpea': 21, 'coffee': 22}\n"
     ]
    }
   ],
   "source": [
    "print(data_dic)"
   ]
  },
  {
   "cell_type": "markdown",
   "id": "2334feb8",
   "metadata": {},
   "source": [
    "# mapping all the label with the new label\n"
   ]
  },
  {
   "cell_type": "code",
   "execution_count": 28,
   "id": "1d59ffb9",
   "metadata": {},
   "outputs": [],
   "source": [
    "data['label']=data['label'].map(data_dic)"
   ]
  },
  {
   "cell_type": "code",
   "execution_count": 29,
   "id": "4021244f",
   "metadata": {},
   "outputs": [
    {
     "data": {
      "text/html": [
       "<div>\n",
       "<style scoped>\n",
       "    .dataframe tbody tr th:only-of-type {\n",
       "        vertical-align: middle;\n",
       "    }\n",
       "\n",
       "    .dataframe tbody tr th {\n",
       "        vertical-align: top;\n",
       "    }\n",
       "\n",
       "    .dataframe thead th {\n",
       "        text-align: right;\n",
       "    }\n",
       "</style>\n",
       "<table border=\"1\" class=\"dataframe\">\n",
       "  <thead>\n",
       "    <tr style=\"text-align: right;\">\n",
       "      <th></th>\n",
       "      <th>N</th>\n",
       "      <th>P</th>\n",
       "      <th>K</th>\n",
       "      <th>temperature</th>\n",
       "      <th>humidity</th>\n",
       "      <th>ph</th>\n",
       "      <th>rainfall</th>\n",
       "      <th>label</th>\n",
       "    </tr>\n",
       "  </thead>\n",
       "  <tbody>\n",
       "    <tr>\n",
       "      <th>0</th>\n",
       "      <td>90</td>\n",
       "      <td>42</td>\n",
       "      <td>43</td>\n",
       "      <td>20.879744</td>\n",
       "      <td>82.002744</td>\n",
       "      <td>6.502985</td>\n",
       "      <td>202.935536</td>\n",
       "      <td>1</td>\n",
       "    </tr>\n",
       "    <tr>\n",
       "      <th>1</th>\n",
       "      <td>85</td>\n",
       "      <td>58</td>\n",
       "      <td>41</td>\n",
       "      <td>21.770462</td>\n",
       "      <td>80.319644</td>\n",
       "      <td>7.038096</td>\n",
       "      <td>226.655537</td>\n",
       "      <td>1</td>\n",
       "    </tr>\n",
       "    <tr>\n",
       "      <th>2</th>\n",
       "      <td>60</td>\n",
       "      <td>55</td>\n",
       "      <td>44</td>\n",
       "      <td>23.004459</td>\n",
       "      <td>82.320763</td>\n",
       "      <td>7.840207</td>\n",
       "      <td>263.964248</td>\n",
       "      <td>1</td>\n",
       "    </tr>\n",
       "    <tr>\n",
       "      <th>3</th>\n",
       "      <td>74</td>\n",
       "      <td>35</td>\n",
       "      <td>40</td>\n",
       "      <td>26.491096</td>\n",
       "      <td>80.158363</td>\n",
       "      <td>6.980401</td>\n",
       "      <td>242.864034</td>\n",
       "      <td>1</td>\n",
       "    </tr>\n",
       "    <tr>\n",
       "      <th>4</th>\n",
       "      <td>78</td>\n",
       "      <td>42</td>\n",
       "      <td>42</td>\n",
       "      <td>20.130175</td>\n",
       "      <td>81.604873</td>\n",
       "      <td>7.628473</td>\n",
       "      <td>262.717340</td>\n",
       "      <td>1</td>\n",
       "    </tr>\n",
       "  </tbody>\n",
       "</table>\n",
       "</div>"
      ],
      "text/plain": [
       "    N   P   K  temperature   humidity        ph    rainfall  label\n",
       "0  90  42  43    20.879744  82.002744  6.502985  202.935536      1\n",
       "1  85  58  41    21.770462  80.319644  7.038096  226.655537      1\n",
       "2  60  55  44    23.004459  82.320763  7.840207  263.964248      1\n",
       "3  74  35  40    26.491096  80.158363  6.980401  242.864034      1\n",
       "4  78  42  42    20.130175  81.604873  7.628473  262.717340      1"
      ]
     },
     "execution_count": 29,
     "metadata": {},
     "output_type": "execute_result"
    }
   ],
   "source": [
    "data.head()"
   ]
  },
  {
   "cell_type": "code",
   "execution_count": 30,
   "id": "a4ca1f65",
   "metadata": {},
   "outputs": [
    {
     "data": {
      "text/plain": [
       "array([ 1,  2, 21, 20, 19, 18, 17, 16, 15, 14, 13, 12, 11, 10,  9,  8,  7,\n",
       "        6,  5,  4,  3, 22], dtype=int64)"
      ]
     },
     "execution_count": 30,
     "metadata": {},
     "output_type": "execute_result"
    }
   ],
   "source": [
    "data.label.unique()"
   ]
  },
  {
   "cell_type": "markdown",
   "id": "fbe7c0aa",
   "metadata": {},
   "source": [
    "# seperating the label column "
   ]
  },
  {
   "cell_type": "code",
   "execution_count": 31,
   "id": "518a5618",
   "metadata": {},
   "outputs": [],
   "source": [
    "x=data.drop('label',axis=1)\n",
    "y=data['label']"
   ]
  },
  {
   "cell_type": "code",
   "execution_count": 32,
   "id": "6a75feb0",
   "metadata": {},
   "outputs": [
    {
     "data": {
      "text/plain": [
       "(2200, 7)"
      ]
     },
     "execution_count": 32,
     "metadata": {},
     "output_type": "execute_result"
    }
   ],
   "source": [
    "x.shape"
   ]
  },
  {
   "cell_type": "code",
   "execution_count": 33,
   "id": "38454c07",
   "metadata": {},
   "outputs": [
    {
     "data": {
      "text/html": [
       "<div>\n",
       "<style scoped>\n",
       "    .dataframe tbody tr th:only-of-type {\n",
       "        vertical-align: middle;\n",
       "    }\n",
       "\n",
       "    .dataframe tbody tr th {\n",
       "        vertical-align: top;\n",
       "    }\n",
       "\n",
       "    .dataframe thead th {\n",
       "        text-align: right;\n",
       "    }\n",
       "</style>\n",
       "<table border=\"1\" class=\"dataframe\">\n",
       "  <thead>\n",
       "    <tr style=\"text-align: right;\">\n",
       "      <th></th>\n",
       "      <th>N</th>\n",
       "      <th>P</th>\n",
       "      <th>K</th>\n",
       "      <th>temperature</th>\n",
       "      <th>humidity</th>\n",
       "      <th>ph</th>\n",
       "      <th>rainfall</th>\n",
       "    </tr>\n",
       "  </thead>\n",
       "  <tbody>\n",
       "    <tr>\n",
       "      <th>0</th>\n",
       "      <td>90</td>\n",
       "      <td>42</td>\n",
       "      <td>43</td>\n",
       "      <td>20.879744</td>\n",
       "      <td>82.002744</td>\n",
       "      <td>6.502985</td>\n",
       "      <td>202.935536</td>\n",
       "    </tr>\n",
       "    <tr>\n",
       "      <th>1</th>\n",
       "      <td>85</td>\n",
       "      <td>58</td>\n",
       "      <td>41</td>\n",
       "      <td>21.770462</td>\n",
       "      <td>80.319644</td>\n",
       "      <td>7.038096</td>\n",
       "      <td>226.655537</td>\n",
       "    </tr>\n",
       "    <tr>\n",
       "      <th>2</th>\n",
       "      <td>60</td>\n",
       "      <td>55</td>\n",
       "      <td>44</td>\n",
       "      <td>23.004459</td>\n",
       "      <td>82.320763</td>\n",
       "      <td>7.840207</td>\n",
       "      <td>263.964248</td>\n",
       "    </tr>\n",
       "    <tr>\n",
       "      <th>3</th>\n",
       "      <td>74</td>\n",
       "      <td>35</td>\n",
       "      <td>40</td>\n",
       "      <td>26.491096</td>\n",
       "      <td>80.158363</td>\n",
       "      <td>6.980401</td>\n",
       "      <td>242.864034</td>\n",
       "    </tr>\n",
       "    <tr>\n",
       "      <th>4</th>\n",
       "      <td>78</td>\n",
       "      <td>42</td>\n",
       "      <td>42</td>\n",
       "      <td>20.130175</td>\n",
       "      <td>81.604873</td>\n",
       "      <td>7.628473</td>\n",
       "      <td>262.717340</td>\n",
       "    </tr>\n",
       "  </tbody>\n",
       "</table>\n",
       "</div>"
      ],
      "text/plain": [
       "    N   P   K  temperature   humidity        ph    rainfall\n",
       "0  90  42  43    20.879744  82.002744  6.502985  202.935536\n",
       "1  85  58  41    21.770462  80.319644  7.038096  226.655537\n",
       "2  60  55  44    23.004459  82.320763  7.840207  263.964248\n",
       "3  74  35  40    26.491096  80.158363  6.980401  242.864034\n",
       "4  78  42  42    20.130175  81.604873  7.628473  262.717340"
      ]
     },
     "execution_count": 33,
     "metadata": {},
     "output_type": "execute_result"
    }
   ],
   "source": [
    "x.head()"
   ]
  },
  {
   "cell_type": "code",
   "execution_count": 34,
   "id": "dc6057ca",
   "metadata": {},
   "outputs": [
    {
     "data": {
      "text/plain": [
       "(2200,)"
      ]
     },
     "execution_count": 34,
     "metadata": {},
     "output_type": "execute_result"
    }
   ],
   "source": [
    "y.shape"
   ]
  },
  {
   "cell_type": "code",
   "execution_count": 35,
   "id": "64bc3192",
   "metadata": {},
   "outputs": [
    {
     "data": {
      "text/plain": [
       "0    1\n",
       "1    1\n",
       "2    1\n",
       "3    1\n",
       "4    1\n",
       "Name: label, dtype: int64"
      ]
     },
     "execution_count": 35,
     "metadata": {},
     "output_type": "execute_result"
    }
   ],
   "source": [
    "y.head()"
   ]
  },
  {
   "cell_type": "markdown",
   "id": "dd01fa07",
   "metadata": {},
   "source": [
    "# splitting a dataset into train and test"
   ]
  },
  {
   "cell_type": "code",
   "execution_count": 36,
   "id": "9bb705a3",
   "metadata": {},
   "outputs": [],
   "source": [
    "import sklearn"
   ]
  },
  {
   "cell_type": "code",
   "execution_count": 37,
   "id": "4c0dcadb",
   "metadata": {},
   "outputs": [],
   "source": [
    "from sklearn.model_selection import train_test_split\n",
    "x_train , x_test , y_train , y_test = train_test_split(x,y, test_size=0.2, random_state=42)"
   ]
  },
  {
   "cell_type": "code",
   "execution_count": 38,
   "id": "46587ede",
   "metadata": {},
   "outputs": [
    {
     "data": {
      "text/plain": [
       "(440, 7)"
      ]
     },
     "execution_count": 38,
     "metadata": {},
     "output_type": "execute_result"
    }
   ],
   "source": [
    "x_test.shape"
   ]
  },
  {
   "cell_type": "markdown",
   "id": "f3f30e26",
   "metadata": {},
   "source": [
    "# MinMaxScaler - Standardizes features by scaling each feature to a given range o to 1 (default)\n"
   ]
  },
  {
   "cell_type": "code",
   "execution_count": 39,
   "id": "575d1537",
   "metadata": {},
   "outputs": [],
   "source": [
    "from sklearn.preprocessing import MinMaxScaler\n",
    "mm= MinMaxScaler()\n",
    "x_train = mm.fit_transform(x_train)\n"
   ]
  },
  {
   "cell_type": "code",
   "execution_count": 40,
   "id": "085fb2d4",
   "metadata": {},
   "outputs": [
    {
     "data": {
      "text/plain": [
       "array([[0.12142857, 0.07857143, 0.045     , ..., 0.9089898 , 0.48532225,\n",
       "        0.29685161],\n",
       "       [0.26428571, 0.52857143, 0.07      , ..., 0.64257946, 0.56594073,\n",
       "        0.17630752],\n",
       "       [0.05      , 0.48571429, 0.1       , ..., 0.57005802, 0.58835229,\n",
       "        0.08931844],\n",
       "       ...,\n",
       "       [0.07857143, 0.22142857, 0.13      , ..., 0.43760347, 0.46198144,\n",
       "        0.28719815],\n",
       "       [0.07857143, 0.85      , 0.995     , ..., 0.76763665, 0.44420505,\n",
       "        0.18346657],\n",
       "       [0.22857143, 0.52142857, 0.085     , ..., 0.56099735, 0.54465022,\n",
       "        0.11879596]])"
      ]
     },
     "execution_count": 40,
     "metadata": {},
     "output_type": "execute_result"
    }
   ],
   "source": [
    "x_train"
   ]
  },
  {
   "cell_type": "code",
   "execution_count": 41,
   "id": "d0a0c156",
   "metadata": {},
   "outputs": [],
   "source": [
    "x_test= mm.transform(x_test)"
   ]
  },
  {
   "cell_type": "markdown",
   "id": "62341eec",
   "metadata": {},
   "source": [
    "# StandardScaler - standardizes features by removing the mean and scaling to unit variance."
   ]
  },
  {
   "cell_type": "code",
   "execution_count": 42,
   "id": "7247407b",
   "metadata": {},
   "outputs": [],
   "source": [
    "from sklearn.preprocessing import StandardScaler\n",
    "sc = StandardScaler()\n",
    "sc.fit(x_train)\n",
    "x_train = sc.transform(x_train)\n",
    "x_test = sc.transform(x_test)"
   ]
  },
  {
   "cell_type": "code",
   "execution_count": 43,
   "id": "580d9d3b",
   "metadata": {},
   "outputs": [],
   "source": [
    "from sklearn.linear_model import LogisticRegression \n",
    "from sklearn.naive_bayes import GaussianNB\n",
    "from sklearn.svm import SVC\n",
    "from sklearn.neighbors import KNeighborsClassifier\n",
    "from sklearn.tree import DecisionTreeClassifier ,ExtraTreeClassifier\n",
    "from sklearn.ensemble import RandomForestClassifier , BaggingClassifier , GradientBoostingClassifier , AdaBoostClassifier\n",
    "from sklearn.metrics import accuracy_score"
   ]
  },
  {
   "cell_type": "code",
   "execution_count": 44,
   "id": "298452f0",
   "metadata": {},
   "outputs": [],
   "source": [
    "models= {\n",
    "    'LogisticRegression':LogisticRegression(),\n",
    "    'GaussianNB':GaussianNB(),\n",
    "    'SVC':SVC(),\n",
    "    'KNeighborsClassifier':KNeighborsClassifier(),\n",
    "    'DecisionTreeClassifier':DecisionTreeClassifier(),\n",
    "    'ExtraTreeClassifier': ExtraTreeClassifier(),\n",
    "    'RandomForestClassifier': RandomForestClassifier(),\n",
    "    'BaggingClassifier': BaggingClassifier(),\n",
    "    'GradientBoostingClassifier': GradientBoostingClassifier(),\n",
    "    'AdaBoostClassifier': AdaBoostClassifier(),\n",
    "    \n",
    "    }"
   ]
  },
  {
   "cell_type": "code",
   "execution_count": 45,
   "id": "b6dcc703",
   "metadata": {},
   "outputs": [
    {
     "name": "stdout",
     "output_type": "stream",
     "text": [
      "LogisticRegression model with accuracy:0.9636363636363636\n",
      "GaussianNB model with accuracy:0.9954545454545455\n",
      "SVC model with accuracy:0.9681818181818181\n",
      "KNeighborsClassifier model with accuracy:0.9590909090909091\n",
      "DecisionTreeClassifier model with accuracy:0.9863636363636363\n",
      "ExtraTreeClassifier model with accuracy:0.9159090909090909\n",
      "RandomForestClassifier model with accuracy:0.9931818181818182\n",
      "BaggingClassifier model with accuracy:0.990909090909091\n",
      "GradientBoostingClassifier model with accuracy:0.9818181818181818\n",
      "AdaBoostClassifier model with accuracy:0.1409090909090909\n"
     ]
    }
   ],
   "source": [
    "for name , model in models.items():\n",
    "    model.fit(x_train, y_train)\n",
    "    y_pred = model.predict(x_test)\n",
    "    score = accuracy_score(y_test,y_pred)\n",
    "    print(f'{name} model with accuracy:{score}')"
   ]
  },
  {
   "cell_type": "markdown",
   "id": "ab831deb",
   "metadata": {},
   "source": [
    "#  Here RandomForestClassifier gives more Accuracy"
   ]
  },
  {
   "cell_type": "code",
   "execution_count": 46,
   "id": "4d56acbe",
   "metadata": {},
   "outputs": [
    {
     "data": {
      "text/plain": [
       "0.9931818181818182"
      ]
     },
     "execution_count": 46,
     "metadata": {},
     "output_type": "execute_result"
    }
   ],
   "source": [
    "randclf = RandomForestClassifier()\n",
    "randclf.fit(x_train,y_train)\n",
    "y_pred = randclf.predict(x_test)\n",
    "accuracy_score(y_test,y_pred)"
   ]
  },
  {
   "cell_type": "code",
   "execution_count": 47,
   "id": "895f9361",
   "metadata": {},
   "outputs": [
    {
     "data": {
      "text/plain": [
       "Index(['N', 'P', 'K', 'temperature', 'humidity', 'ph', 'rainfall', 'label'], dtype='object')"
      ]
     },
     "execution_count": 47,
     "metadata": {},
     "output_type": "execute_result"
    }
   ],
   "source": [
    "data.columns"
   ]
  },
  {
   "cell_type": "code",
   "execution_count": 68,
   "id": "cdd2073e",
   "metadata": {},
   "outputs": [],
   "source": [
    "def predict(N,P,K,temperature,humidity,ph,rainfall):\n",
    "    features = np.array([N,P,K,temperature,humidity,ph,rainfall])\n",
    "    print(features)\n",
    "    features_reshaped = features.reshape(1, -1)\n",
    "    #MinMax Scaler\n",
    "    mm_features = mm.fit_transform(features_reshaped)\n",
    "    #standard Sclar\n",
    "    sc_features = sc.fit_transform(mm_features)\n",
    "    prediction = randclf.predict(sc_features).reshape(1,-1)\n",
    "    \n",
    "    value_to_find = prediction[0]\n",
    "    keys_with_value = [key for key, value in data_dic.items() if value == value_to_find]\n",
    "    if keys_with_value:\n",
    "        print(\"Recommended Crop:\", keys_with_value[0])\n",
    "    else:\n",
    "        print(\"No crop found for the given label:\", value_to_find)\n",
    "\n",
    "    "
   ]
  },
  {
   "cell_type": "code",
   "execution_count": 50,
   "id": "800e3c46",
   "metadata": {},
   "outputs": [
    {
     "data": {
      "text/html": [
       "<div>\n",
       "<style scoped>\n",
       "    .dataframe tbody tr th:only-of-type {\n",
       "        vertical-align: middle;\n",
       "    }\n",
       "\n",
       "    .dataframe tbody tr th {\n",
       "        vertical-align: top;\n",
       "    }\n",
       "\n",
       "    .dataframe thead th {\n",
       "        text-align: right;\n",
       "    }\n",
       "</style>\n",
       "<table border=\"1\" class=\"dataframe\">\n",
       "  <thead>\n",
       "    <tr style=\"text-align: right;\">\n",
       "      <th></th>\n",
       "      <th>N</th>\n",
       "      <th>P</th>\n",
       "      <th>K</th>\n",
       "      <th>temperature</th>\n",
       "      <th>humidity</th>\n",
       "      <th>ph</th>\n",
       "      <th>rainfall</th>\n",
       "      <th>label</th>\n",
       "    </tr>\n",
       "  </thead>\n",
       "  <tbody>\n",
       "    <tr>\n",
       "      <th>0</th>\n",
       "      <td>90</td>\n",
       "      <td>42</td>\n",
       "      <td>43</td>\n",
       "      <td>20.879744</td>\n",
       "      <td>82.002744</td>\n",
       "      <td>6.502985</td>\n",
       "      <td>202.935536</td>\n",
       "      <td>1</td>\n",
       "    </tr>\n",
       "    <tr>\n",
       "      <th>1</th>\n",
       "      <td>85</td>\n",
       "      <td>58</td>\n",
       "      <td>41</td>\n",
       "      <td>21.770462</td>\n",
       "      <td>80.319644</td>\n",
       "      <td>7.038096</td>\n",
       "      <td>226.655537</td>\n",
       "      <td>1</td>\n",
       "    </tr>\n",
       "    <tr>\n",
       "      <th>2</th>\n",
       "      <td>60</td>\n",
       "      <td>55</td>\n",
       "      <td>44</td>\n",
       "      <td>23.004459</td>\n",
       "      <td>82.320763</td>\n",
       "      <td>7.840207</td>\n",
       "      <td>263.964248</td>\n",
       "      <td>1</td>\n",
       "    </tr>\n",
       "    <tr>\n",
       "      <th>3</th>\n",
       "      <td>74</td>\n",
       "      <td>35</td>\n",
       "      <td>40</td>\n",
       "      <td>26.491096</td>\n",
       "      <td>80.158363</td>\n",
       "      <td>6.980401</td>\n",
       "      <td>242.864034</td>\n",
       "      <td>1</td>\n",
       "    </tr>\n",
       "    <tr>\n",
       "      <th>4</th>\n",
       "      <td>78</td>\n",
       "      <td>42</td>\n",
       "      <td>42</td>\n",
       "      <td>20.130175</td>\n",
       "      <td>81.604873</td>\n",
       "      <td>7.628473</td>\n",
       "      <td>262.717340</td>\n",
       "      <td>1</td>\n",
       "    </tr>\n",
       "  </tbody>\n",
       "</table>\n",
       "</div>"
      ],
      "text/plain": [
       "    N   P   K  temperature   humidity        ph    rainfall  label\n",
       "0  90  42  43    20.879744  82.002744  6.502985  202.935536      1\n",
       "1  85  58  41    21.770462  80.319644  7.038096  226.655537      1\n",
       "2  60  55  44    23.004459  82.320763  7.840207  263.964248      1\n",
       "3  74  35  40    26.491096  80.158363  6.980401  242.864034      1\n",
       "4  78  42  42    20.130175  81.604873  7.628473  262.717340      1"
      ]
     },
     "execution_count": 50,
     "metadata": {},
     "output_type": "execute_result"
    }
   ],
   "source": [
    "data.head()\n"
   ]
  },
  {
   "cell_type": "code",
   "execution_count": 69,
   "id": "a1da3d66",
   "metadata": {},
   "outputs": [
    {
     "name": "stdout",
     "output_type": "stream",
     "text": [
      "[89.         60.         19.         25.19192419 66.6902901   5.9136645\n",
      " 78.06639649]\n",
      "Recommended Crop: ['papaya']\n"
     ]
    }
   ],
   "source": [
    "predict(89,60,19,25.19192419,66.6902901,5.913664501,78.06639649)"
   ]
  },
  {
   "cell_type": "code",
   "execution_count": 52,
   "id": "36a61fdd",
   "metadata": {},
   "outputs": [
    {
     "name": "stdout",
     "output_type": "stream",
     "text": [
      "Recommedated Crop 1 : ['rice']\n"
     ]
    }
   ],
   "source": [
    "\n",
    "value_to_find = 1\n",
    "keys_with_value = [key for key, value in data_dic.items() if value == value_to_find]\n",
    "print(\"Recommedated Crop\", value_to_find, \":\", keys_with_value)\n"
   ]
  },
  {
   "cell_type": "code",
   "execution_count": 116,
   "id": "713ffa55",
   "metadata": {},
   "outputs": [
    {
     "name": "stdout",
     "output_type": "stream",
     "text": [
      "Note: you may need to restart the kernel to use updated packages.\n"
     ]
    },
    {
     "name": "stderr",
     "output_type": "stream",
     "text": [
      "ERROR: Could not find a version that satisfies the requirement pickle (from versions: none)\n",
      "ERROR: No matching distribution found for pickle\n"
     ]
    }
   ],
   "source": [
    "pip install pickle"
   ]
  },
  {
   "cell_type": "code",
   "execution_count": 118,
   "id": "d56d79b1",
   "metadata": {},
   "outputs": [],
   "source": [
    "import pickle"
   ]
  },
  {
   "cell_type": "code",
   "execution_count": 3,
   "id": "c7c84500",
   "metadata": {},
   "outputs": [
    {
     "name": "stdout",
     "output_type": "stream",
     "text": [
      "Collecting customtkinter\n",
      "  Downloading customtkinter-5.2.2-py3-none-any.whl (296 kB)\n",
      "     -------------------------------------- 296.1/296.1 kB 2.6 MB/s eta 0:00:00\n",
      "Requirement already satisfied: packaging in c:\\users\\ravikrishna j\\ano\\lib\\site-packages (from customtkinter) (22.0)\n",
      "Collecting darkdetect\n",
      "  Downloading darkdetect-0.8.0-py3-none-any.whl (9.0 kB)\n",
      "Installing collected packages: darkdetect, customtkinter\n",
      "Successfully installed customtkinter-5.2.2 darkdetect-0.8.0\n",
      "Note: you may need to restart the kernel to use updated packages.\n"
     ]
    }
   ],
   "source": [
    "pip install customtkinter"
   ]
  },
  {
   "cell_type": "code",
   "execution_count": 72,
   "id": "10537a48",
   "metadata": {},
   "outputs": [],
   "source": [
    "\n",
    "import tkinter\n",
    "import customtkinter as ct\n",
    "from tkinter import messagebox\n",
    "import pickle\n",
    "import os\n",
    "\n",
    "\n",
    "\n",
    "\n",
    "# Specify the directory where the pickled files are stored\n",
    "directory = \"E://Crop Recommendation\"\n",
    "\n",
    "# Load the machine learning model\n",
    "with open(os.path.join(directory, 'model.pkl'), 'rb') as f:\n",
    "    model = pickle.load(f)\n",
    "\n",
    "# Load the MinMaxScaler\n",
    "with open(os.path.join(directory, 'minmaxscaler.pkl'), 'rb') as f:\n",
    "    mm = pickle.load(f)\n",
    "\n",
    "# Load the StandardScaler\n",
    "with open(os.path.join(directory, 'standardscaler.pkl'), 'rb') as f:\n",
    "    sc = pickle.load(f)\n",
    "\n",
    "# Define a function to perform prediction\n",
    "\n"
   ]
  },
  {
   "cell_type": "code",
   "execution_count": 87,
   "id": "a93f10f8",
   "metadata": {},
   "outputs": [
    {
     "name": "stdout",
     "output_type": "stream",
     "text": [
      "90 42 43 20.87 82.002 6.5 202.9335\n"
     ]
    }
   ],
   "source": [
    "ct.set_appearance_mode(\"Dark\")  # Modes: \"System\" (standard), \"Dark\", \"Light\"\n",
    "\n",
    "def predict():\n",
    "    \n",
    "    \n",
    "    \n",
    "    \n",
    "    # Retrieve input values from text entry widgets\n",
    "    global N, P, K, temperature, humidity, pH, rainfall\n",
    "    \n",
    "    N = int(N.get())\n",
    "    P = int(P.get())\n",
    "    K = int(Po.get())\n",
    "    temperature = float(Temp.get())\n",
    "    humidity = float(H.get())\n",
    "    ph1 = float(ph.get())\n",
    "    rainfall = float(R.get())\n",
    "    \n",
    "    print(N, P, K, temperature, humidity, ph1, rainfall)\n",
    "    \n",
    "    features = [N,P,K,temperature,humidity,ph1,rainfall]\n",
    "    features_reshaped = np.array(features).reshape(1, -1)\n",
    "    #MinMax Scaler\n",
    "    mm_features = mm.transform(features_reshaped)\n",
    "    #standard Sclar\n",
    "    sc_features = sc.transform(mm_features)\n",
    "    \n",
    "    prediction = model.predict(sc_features).reshape(1,-1)\n",
    "    \n",
    "    value_to_find = prediction[0]\n",
    "    keys_with_value = [key for key, value in data_dic.items() if value == value_to_find]\n",
    "    if keys_with_value:\n",
    "        \n",
    "        ct.set_appearance_mode(\"Light\")  # Modes: \"System\" (standard), \"Dark\", \"Light\"\n",
    "\n",
    "        land= ct.CTk()\n",
    "        land.wm_overrideredirect(True)\n",
    "        def center_window(land, width, height):\n",
    "            screen_width = land.winfo_screenwidth()\n",
    "            screen_height = land.winfo_screenheight()\n",
    "            x = (screen_width/2) - (width/2)\n",
    "            y = (screen_height/2) - (height/2)\n",
    "            land.geometry('%dx%d+%d+%d' % (width, height, x, y))\n",
    "            land.resizable(width=False,height=False)\n",
    "        center_window(land, 400,200)\n",
    "        land.title(\"Recommended Crop\")\n",
    "\n",
    "\n",
    "        def close():\n",
    "            land.destroy()\n",
    "\n",
    "\n",
    "\n",
    "\n",
    "        my_font1 = ct.CTkFont(family=\"Microsoft Sans Serif\", size=30)\n",
    "        my_font3 = ct.CTkFont(family=\"Microsoft Sans Serif\", size=20)\n",
    "\n",
    "        l2 = ct.CTkLabel(master=land, text=f\"The Recommended crop is\", font=('Microsoft Sans Serif', 28), text_color='black',width=400,height=23,fg_color=(\"white\"),corner_radius=8)\n",
    "        l2.place(relx=0.5, rely=0.3, anchor=tkinter.CENTER)\n",
    "\n",
    "        l2 = ct.CTkLabel(master=land, text=keys_with_value[0], font=('Microsoft Sans Serif', 28), text_color='purple',width=400,height=23,corner_radius=8)\n",
    "        l2.place(relx=0.5, rely=0.5, anchor=tkinter.CENTER)\n",
    "\n",
    "        button1 = ct.CTkButton(master=land,font=('Microsoft Sans Serif', 20) ,width=180,height=35,text=\"Close\", command= close, corner_radius=6)\n",
    "        button1.place(relx=0.5, rely=0.8, anchor=tkinter.CENTER)\n",
    "\n",
    "\n",
    "\n",
    "\n",
    "\n",
    "\n",
    "        land.mainloop()\n",
    "\n",
    "        \n",
    "        \n",
    "       \n",
    "    else:\n",
    "        print(\"No crop found for the given label:\", value_to_find)\n",
    "    \n",
    "   \n",
    "    \n",
    "    \n",
    "    \n",
    "    \n",
    "    \n",
    "    \n",
    "\n",
    "\n",
    "\n",
    "\n",
    "\n",
    "\n",
    "\n",
    "land= ct.CTk()\n",
    "def center_window(land, width, height):\n",
    "    screen_width = land.winfo_screenwidth()\n",
    "    screen_height = land.winfo_screenheight()\n",
    "    x = (screen_width/2) - (width/2)\n",
    "    y = (screen_height/2) - (height/2)\n",
    "    land.geometry('%dx%d+%d+%d' % (width, height, x, y))\n",
    "    land.resizable(width=False,height=False)\n",
    "center_window(land, 1000,550)\n",
    "land.title(\"Crop Recommendation\")\n",
    "\n",
    "\n",
    "my_font1 = ct.CTkFont(family=\"Microsoft Sans Serif\", size=30)\n",
    "my_font3 = ct.CTkFont(family=\"Microsoft Sans Serif\", size=20)\n",
    "\n",
    "text_var = tkinter.StringVar(value=\"Crop Recommendation \")\n",
    "\n",
    "\n",
    "\n",
    "l2 = ct.CTkLabel(master=land, text=\"Crop Recommendation\", font=('Microsoft Sans Serif', 28), text_color='#f2e9e4',width=400,\n",
    "                               height=23,\n",
    "                               fg_color=(\"white\", \"black\"),corner_radius=8)\n",
    "l2.place(relx=0.5, rely=0.07, anchor=tkinter.CENTER)\n",
    "\n",
    "\n",
    "#main frame\n",
    "f1=ct.CTkFrame(land,width=1000,height=475,border_width=3,fg_color='#100c08',border_color='#100c08',corner_radius=10)\n",
    "   \n",
    "f1.place(relx=0.5, rely=0.55, anchor=tkinter.CENTER)\n",
    "#company\n",
    "\n",
    "mac1=ct.StringVar()\n",
    "\n",
    "# N\n",
    "# Entry for username\n",
    "l2 = ct.CTkLabel(master=f1, text=\"Nitrogen\", font=('Microsoft Sans Serif', 25), text_color='#f2e9e4')\n",
    "l2.place(relx=0.1, rely=0.1, anchor=tkinter.CENTER)\n",
    "\n",
    "N = ct.CTkEntry(master=f1,height=35, width=220, placeholder_text='Enter Nitrogen',bg_color=\"black\",fg_color='#36454F',text_color='white',corner_radius=10,border_color='#36454F')\n",
    "N.place(relx=0.156, rely=0.2, anchor=tkinter.CENTER)\n",
    "\n",
    "\n",
    "# P\n",
    "\n",
    "l2 = ct.CTkLabel(master=f1, text=\"Phosphorus\", font=('Microsoft Sans Serif', 25), text_color='#f2e9e4')\n",
    "l2.place(relx=0.45, rely=0.1, anchor=tkinter.CENTER)\n",
    "\n",
    "P = ct.CTkEntry(master=f1,height=35, width=220, placeholder_text='Enter Phosphorus',bg_color=\"black\",fg_color='#36454F',text_color='white',corner_radius=10,border_color='#36454F')\n",
    "P.place(relx=0.49, rely=0.2, anchor=tkinter.CENTER)\n",
    "\n",
    "# Potassium\n",
    "\n",
    "l2 = ct.CTkLabel(master=f1, text=\"Potassium\", font=('Microsoft Sans Serif', 25), text_color='#f2e9e4')\n",
    "l2.place(relx=0.75, rely=0.1, anchor=tkinter.CENTER)\n",
    "\n",
    "Po = ct.CTkEntry(master=f1,height=35, width=220, placeholder_text='Enter Potassium ',bg_color=\"black\",fg_color='#36454F',text_color='white',corner_radius=10,border_color='#36454F')\n",
    "Po.place(relx=0.8, rely=0.2, anchor=tkinter.CENTER)\n",
    "\n",
    "# Temperature\n",
    "\n",
    "l2 = ct.CTkLabel(master=f1, text=\"Temperature\", font=('Microsoft Sans Serif', 25), text_color='#f2e9e4')\n",
    "l2.place(relx=0.12, rely=0.4, anchor=tkinter.CENTER)\n",
    "\n",
    "Temp = ct.CTkEntry(master=f1,height=35, width=220, placeholder_text='Enter Temperature ',bg_color=\"black\",fg_color='#36454F',text_color='white',corner_radius=10,border_color='#36454F')\n",
    "Temp.place(relx=0.156, rely=0.5, anchor=tkinter.CENTER)\n",
    "\n",
    "# Humidity \n",
    "\n",
    "l2 = ct.CTkLabel(master=f1, text=\"Humidity \", font=('Microsoft Sans Serif', 25), text_color='#f2e9e4')\n",
    "l2.place(relx=0.45, rely=0.4, anchor=tkinter.CENTER)\n",
    "\n",
    "H = ct.CTkEntry(master=f1,height=35, width=220, placeholder_text='Enter Humidity ',bg_color=\"black\",fg_color='#36454F',text_color='white',corner_radius=10,border_color='#36454F')\n",
    "H.place(relx=0.49, rely=0.5, anchor=tkinter.CENTER)\n",
    "\n",
    "#pH\n",
    "\n",
    "l2 = ct.CTkLabel(master=f1, text=\"Ph\", font=('Microsoft Sans Serif', 25), text_color='#f2e9e4')\n",
    "l2.place(relx=0.72, rely=0.4, anchor=tkinter.CENTER)\n",
    "\n",
    "ph = ct.CTkEntry(master=f1,height=35, width=220, placeholder_text='Enter Ph ',bg_color=\"black\",fg_color='#36454F',text_color='white',corner_radius=10,border_color='#36454F')\n",
    "ph.place(relx=0.8, rely=0.5, anchor=tkinter.CENTER)\n",
    "\n",
    "\n",
    "# Rainfall\n",
    "\n",
    "l2 = ct.CTkLabel(master=f1, text=\"Rainfall\", font=('Microsoft Sans Serif', 25), text_color='#f2e9e4')\n",
    "l2.place(relx=0.1, rely=0.7, anchor=tkinter.CENTER)\n",
    "\n",
    "R = ct.CTkEntry(master=f1,height=35, width=220, placeholder_text='Enter Rainfall ',bg_color=\"black\",fg_color='#36454F',text_color='white',corner_radius=10,border_color='#36454F')\n",
    "R.place(relx=0.159, rely=0.8, anchor=tkinter.CENTER)\n",
    "\n",
    "\n",
    "button1 = ct.CTkButton(master=f1,font=('Microsoft Sans Serif', 20) ,width=180,height=40,text=\"Get Recommendation\", command= predict, corner_radius=6)\n",
    "button1.place(relx=0.6, rely=0.8, anchor=tkinter.CENTER)\n",
    "\n",
    "land.mainloop()"
   ]
  },
  {
   "cell_type": "code",
   "execution_count": null,
   "id": "9cc569c0",
   "metadata": {},
   "outputs": [],
   "source": []
  }
 ],
 "metadata": {
  "kernelspec": {
   "display_name": "Python 3 (ipykernel)",
   "language": "python",
   "name": "python3"
  },
  "language_info": {
   "codemirror_mode": {
    "name": "ipython",
    "version": 3
   },
   "file_extension": ".py",
   "mimetype": "text/x-python",
   "name": "python",
   "nbconvert_exporter": "python",
   "pygments_lexer": "ipython3",
   "version": "3.10.9"
  }
 },
 "nbformat": 4,
 "nbformat_minor": 5
}
